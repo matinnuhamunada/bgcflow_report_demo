{
 "cells": [
  {
   "cell_type": "markdown",
   "id": "aa0f0d95-5e6b-436f-a971-9486d0841329",
   "metadata": {},
   "source": [
    "# BiG-SLICE\n",
    "Summary of [BiG-SLICE](https://github.com/medema-group/bigslice) results from project: `[{{ project().name }}]` \n",
    "\n",
    "## Description\n",
    "A highly scalable, user-interactive tool for the large scale analysis of Biosynthetic Gene Clusters data."
   ]
  },
  {
   "cell_type": "code",
   "execution_count": 1,
   "id": "d21448bb-afe9-4fdb-b964-2143a0ccd1e4",
   "metadata": {
    "execution": {
     "iopub.execute_input": "2022-10-09T20:47:52.870904Z",
     "iopub.status.busy": "2022-10-09T20:47:52.870648Z",
     "iopub.status.idle": "2022-10-09T20:47:53.137542Z",
     "shell.execute_reply": "2022-10-09T20:47:53.136863Z"
    }
   },
   "outputs": [],
   "source": [
    "import pandas as pd\n",
    "from pathlib import Path\n",
    "\n",
    "import warnings\n",
    "warnings.filterwarnings('ignore')"
   ]
  },
  {
   "cell_type": "code",
   "execution_count": 2,
   "id": "53fb8b15-379c-4be1-827e-243602f89d95",
   "metadata": {
    "execution": {
     "iopub.execute_input": "2022-10-09T20:47:53.142746Z",
     "iopub.status.busy": "2022-10-09T20:47:53.141555Z",
     "iopub.status.idle": "2022-10-09T20:47:53.146236Z",
     "shell.execute_reply": "2022-10-09T20:47:53.145646Z"
    }
   },
   "outputs": [],
   "source": [
    "report_dir = Path(\"../\")"
   ]
  },
  {
   "cell_type": "markdown",
   "id": "4d8fe1ca-30f9-472a-9e01-4e9db61825b8",
   "metadata": {},
   "source": [
    "## References\n",
    "<font size=\"2\">\n",
    "{% for i in project().rule_used['bigslice']['references'] %}\n",
    "- *{{ i }}*\n",
    "{% endfor %}\n",
    "</font>"
   ]
  }
 ],
 "metadata": {
  "kernelspec": {
   "display_name": "Python 3 (ipykernel)",
   "language": "python",
   "name": "python3"
  },
  "language_info": {
   "codemirror_mode": {
    "name": "ipython",
    "version": 3
   },
   "file_extension": ".py",
   "mimetype": "text/x-python",
   "name": "python",
   "nbconvert_exporter": "python",
   "pygments_lexer": "ipython3",
   "version": "3.10.6"
  }
 },
 "nbformat": 4,
 "nbformat_minor": 5
}
