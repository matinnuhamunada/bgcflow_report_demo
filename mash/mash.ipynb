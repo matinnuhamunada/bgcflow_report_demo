{
 "cells": [
  {
   "cell_type": "markdown",
   "id": "aa0f0d95-5e6b-436f-a971-9486d0841329",
   "metadata": {},
   "source": [
    "# MASH\n",
    "Summary of [MASH](https://github.com/marbl/Mash) results from project: `[{{ project().name }}]`\n",
    "\n",
    "## Description\n",
    "Fast genome and metagenome distance estimation using MinHash"
   ]
  },
  {
   "cell_type": "code",
   "execution_count": 1,
   "id": "d21448bb-afe9-4fdb-b964-2143a0ccd1e4",
   "metadata": {
    "execution": {
     "iopub.execute_input": "2022-10-09T20:47:47.753609Z",
     "iopub.status.busy": "2022-10-09T20:47:47.753347Z",
     "iopub.status.idle": "2022-10-09T20:47:47.998548Z",
     "shell.execute_reply": "2022-10-09T20:47:47.997901Z"
    }
   },
   "outputs": [],
   "source": [
    "import pandas as pd\n",
    "from pathlib import Path\n",
    "\n",
    "import warnings\n",
    "warnings.filterwarnings('ignore')"
   ]
  },
  {
   "cell_type": "code",
   "execution_count": 2,
   "id": "53fb8b15-379c-4be1-827e-243602f89d95",
   "metadata": {
    "execution": {
     "iopub.execute_input": "2022-10-09T20:47:48.003734Z",
     "iopub.status.busy": "2022-10-09T20:47:48.002551Z",
     "iopub.status.idle": "2022-10-09T20:47:48.006929Z",
     "shell.execute_reply": "2022-10-09T20:47:48.006464Z"
    }
   },
   "outputs": [],
   "source": [
    "report_dir = Path(\"../\")"
   ]
  },
  {
   "cell_type": "markdown",
   "id": "4d8fe1ca-30f9-472a-9e01-4e9db61825b8",
   "metadata": {},
   "source": [
    "## References\n",
    "<font size=\"2\">\n",
    "{% for i in project().rule_used['mash']['references'] %}\n",
    "- *{{ i }}*\n",
    "{% endfor %}\n",
    "</font>"
   ]
  }
 ],
 "metadata": {
  "kernelspec": {
   "display_name": "Python 3 (ipykernel)",
   "language": "python",
   "name": "python3"
  },
  "language_info": {
   "codemirror_mode": {
    "name": "ipython",
    "version": 3
   },
   "file_extension": ".py",
   "mimetype": "text/x-python",
   "name": "python",
   "nbconvert_exporter": "python",
   "pygments_lexer": "ipython3",
   "version": "3.10.6"
  }
 },
 "nbformat": 4,
 "nbformat_minor": 5
}
