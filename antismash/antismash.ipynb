{
 "cells": [
  {
   "cell_type": "markdown",
   "id": "ce8cfe38-9a71-4ee7-93fd-3a1f3b4b84bf",
   "metadata": {},
   "source": [
    "# antiSMASH \n",
    "Summary of antiSMASH results for: `[{{ project().name }}]`\n",
    "\n",
    "## Description\n",
    "> antiSMASH allows the rapid genome-wide identification, annotation and analysis of secondary metabolite biosynthesis gene clusters in bacterial and fungal genomes. It integrates and cross-links with a large number of in silico secondary metabolite analysis tools that have been [published earlier](https://pubmed.ncbi.nlm.nih.gov/?term=16221976%2C19297688%2C17506888%2C17400247%2C12691745%2C19360130%2C17913739%2C20462861%2C18950525%2C15980457%2C18978015%5Buid%5D)."
   ]
  },
  {
   "cell_type": "code",
   "execution_count": 1,
   "id": "0a9ebdaf-3412-41d7-8c51-1d9b14cad4d1",
   "metadata": {
    "execution": {
     "iopub.execute_input": "2022-10-09T20:47:47.825666Z",
     "iopub.status.busy": "2022-10-09T20:47:47.825408Z",
     "iopub.status.idle": "2022-10-09T20:47:48.239357Z",
     "shell.execute_reply": "2022-10-09T20:47:48.238753Z"
    },
    "tags": []
   },
   "outputs": [],
   "source": [
    "import pandas as pd\n",
    "from pathlib import Path\n",
    "from IPython.display import display, Markdown, HTML\n",
    "import json\n",
    "import altair as alt\n",
    "\n",
    "import warnings\n",
    "warnings.filterwarnings('ignore')\n",
    "\n",
    "from itables import to_html_datatable as DT\n",
    "import itables.options as opt\n",
    "opt.classes = [\"display\", \"compact\"]\n",
    "opt.lengthMenu = [5, 10, 20, 50, 100, 200, 500]\n",
    "\n",
    "\n",
    "report_dir = Path(\"../\")"
   ]
  },
  {
   "cell_type": "code",
   "execution_count": 2,
   "id": "0d8270fd-78f6-40db-b993-c7948111137c",
   "metadata": {
    "execution": {
     "iopub.execute_input": "2022-10-09T20:47:48.244164Z",
     "iopub.status.busy": "2022-10-09T20:47:48.243065Z",
     "iopub.status.idle": "2022-10-09T20:47:48.263260Z",
     "shell.execute_reply": "2022-10-09T20:47:48.262676Z"
    },
    "tags": []
   },
   "outputs": [],
   "source": [
    "antismash_table = report_dir / \"tables/df_antismash_6.1.1_summary.csv\"\n",
    "gtdb_table = report_dir / \"tables/df_gtdb_meta.csv\"\n",
    "\n",
    "df_antismash = pd.read_csv(antismash_table, index_col=0)\n",
    "df_gtdb = pd.read_csv(gtdb_table, index_col=0)\n",
    "\n",
    "df_raw = pd.concat([df_antismash, df_gtdb], axis=1)\n",
    "df = df_raw.loc[:, [\"genome_id\", \"source\", 'Organism', \"strain\", 'bgcs_count', 'bgcs_on_contig_edge']]\n",
    "for i in df.index:\n",
    "    gid = df.loc[i, 'genome_id']\n",
    "    server_path = \"<a href='{{ project().file_server() }}/antismash/6.1.1/\"\n",
    "    df.loc[i, \"genome_id\"] = server_path + f\"{gid}/index.html?view' target='_blank''>{gid}</a>\"\n",
    "df = df.reset_index(drop=True)"
   ]
  },
  {
   "cell_type": "markdown",
   "id": "c9910c4b-05be-4759-b646-a9b1a0ff4b46",
   "metadata": {},
   "source": [
    "## Result Summary"
   ]
  },
  {
   "cell_type": "code",
   "execution_count": 3,
   "id": "d0260a3a-c42c-4390-87d5-2f146443a220",
   "metadata": {
    "execution": {
     "iopub.execute_input": "2022-10-09T20:47:48.268032Z",
     "iopub.status.busy": "2022-10-09T20:47:48.266964Z",
     "iopub.status.idle": "2022-10-09T20:47:48.281021Z",
     "shell.execute_reply": "2022-10-09T20:47:48.280486Z"
    }
   },
   "outputs": [
    {
     "data": {
      "text/markdown": [
       "AntiSMASH detected 206 BGCs from 5 genomes with the median of 38. Out of these, 99.51% are deemed as complete."
      ],
      "text/plain": [
       "<IPython.core.display.Markdown object>"
      ]
     },
     "metadata": {},
     "output_type": "display_data"
    }
   ],
   "source": [
    "region = df_antismash.bgcs_count\n",
    "incomplete = df_antismash.bgcs_on_contig_edge\n",
    "text = f\"\"\"AntiSMASH detected {int(region.sum())} BGCs from {len(region)} genomes with the median of {int(region.median())}. Out of these, {'{:.2%}'.format(1 - incomplete.sum()/region.sum())} are deemed as complete.\"\"\"\n",
    "display(Markdown(text))"
   ]
  },
  {
   "cell_type": "code",
   "execution_count": 4,
   "id": "10c665db-7457-4964-8154-e463aa4491cf",
   "metadata": {
    "execution": {
     "iopub.execute_input": "2022-10-09T20:47:48.285193Z",
     "iopub.status.busy": "2022-10-09T20:47:48.284116Z",
     "iopub.status.idle": "2022-10-09T20:47:48.547410Z",
     "shell.execute_reply": "2022-10-09T20:47:48.546770Z"
    }
   },
   "outputs": [
    {
     "data": {
      "text/html": [
       "\n",
       "<div id=\"altair-viz-2868c0d54f4a4a288cc04fda823806e3\"></div>\n",
       "<script type=\"text/javascript\">\n",
       "  var VEGA_DEBUG = (typeof VEGA_DEBUG == \"undefined\") ? {} : VEGA_DEBUG;\n",
       "  (function(spec, embedOpt){\n",
       "    let outputDiv = document.currentScript.previousElementSibling;\n",
       "    if (outputDiv.id !== \"altair-viz-2868c0d54f4a4a288cc04fda823806e3\") {\n",
       "      outputDiv = document.getElementById(\"altair-viz-2868c0d54f4a4a288cc04fda823806e3\");\n",
       "    }\n",
       "    const paths = {\n",
       "      \"vega\": \"https://cdn.jsdelivr.net/npm//vega@5?noext\",\n",
       "      \"vega-lib\": \"https://cdn.jsdelivr.net/npm//vega-lib?noext\",\n",
       "      \"vega-lite\": \"https://cdn.jsdelivr.net/npm//vega-lite@4.17.0?noext\",\n",
       "      \"vega-embed\": \"https://cdn.jsdelivr.net/npm//vega-embed@6?noext\",\n",
       "    };\n",
       "\n",
       "    function maybeLoadScript(lib, version) {\n",
       "      var key = `${lib.replace(\"-\", \"\")}_version`;\n",
       "      return (VEGA_DEBUG[key] == version) ?\n",
       "        Promise.resolve(paths[lib]) :\n",
       "        new Promise(function(resolve, reject) {\n",
       "          var s = document.createElement('script');\n",
       "          document.getElementsByTagName(\"head\")[0].appendChild(s);\n",
       "          s.async = true;\n",
       "          s.onload = () => {\n",
       "            VEGA_DEBUG[key] = version;\n",
       "            return resolve(paths[lib]);\n",
       "          };\n",
       "          s.onerror = () => reject(`Error loading script: ${paths[lib]}`);\n",
       "          s.src = paths[lib];\n",
       "        });\n",
       "    }\n",
       "\n",
       "    function showError(err) {\n",
       "      outputDiv.innerHTML = `<div class=\"error\" style=\"color:red;\">${err}</div>`;\n",
       "      throw err;\n",
       "    }\n",
       "\n",
       "    function displayChart(vegaEmbed) {\n",
       "      vegaEmbed(outputDiv, spec, embedOpt)\n",
       "        .catch(err => showError(`Javascript Error: ${err.message}<br>This usually means there's a typo in your chart specification. See the javascript console for the full traceback.`));\n",
       "    }\n",
       "\n",
       "    if(typeof define === \"function\" && define.amd) {\n",
       "      requirejs.config({paths});\n",
       "      require([\"vega-embed\"], displayChart, err => showError(`Error loading script: ${err.message}`));\n",
       "    } else {\n",
       "      maybeLoadScript(\"vega\", \"5\")\n",
       "        .then(() => maybeLoadScript(\"vega-lite\", \"4.17.0\"))\n",
       "        .then(() => maybeLoadScript(\"vega-embed\", \"6\"))\n",
       "        .catch(showError)\n",
       "        .then(() => displayChart(vegaEmbed));\n",
       "    }\n",
       "  })({\"config\": {\"view\": {\"continuousWidth\": 400, \"continuousHeight\": 300}, \"title\": {\"anchor\": \"middle\", \"fontSize\": 20, \"offset\": 10, \"orient\": \"top\"}}, \"data\": {\"name\": \"data-3f28b2b1b4ef2b66ae05eb94f9c9d529\"}, \"mark\": \"circle\", \"encoding\": {\"color\": {\"field\": \"Genus\", \"type\": \"nominal\"}, \"tooltip\": [{\"field\": \"genome_id\", \"type\": \"nominal\"}, {\"field\": \"bgcs_count\", \"type\": \"quantitative\"}, {\"field\": \"bgcs_on_contig_edge\", \"type\": \"quantitative\"}, {\"field\": \"protoclusters_count\", \"type\": \"quantitative\"}, {\"field\": \"cand_clusters_count\", \"type\": \"quantitative\"}], \"x\": {\"field\": \"bgcs_count\", \"type\": \"quantitative\"}, \"y\": {\"field\": \"bgcs_on_contig_edge\", \"type\": \"quantitative\"}}, \"height\": 400, \"selection\": {\"selector001\": {\"type\": \"interval\", \"bind\": \"scales\", \"encodings\": [\"x\", \"y\"]}}, \"title\": \"BGC distribution overview\", \"width\": 400, \"$schema\": \"https://vega.github.io/schema/vega-lite/v4.17.0.json\", \"datasets\": {\"data-3f28b2b1b4ef2b66ae05eb94f9c9d529\": [{\"genome_id\": \"GCF_000009765.2\", \"source\": \"ncbi\", \"organism\": null, \"genus\": null, \"species\": null, \"strain\": null, \"closest_placement_reference\": null, \"bgcs_count\": 35.0, \"bgcs_on_contig_edge\": 0.0, \"protoclusters_count\": 0.0, \"cand_clusters_count\": 0.0, \"terpene\": 7.0, \"lassopeptide\": 3.0, \"T1PKS\": 4.0, \"NRPS\": 1.0, \"NRPS.NRPS-like.PKS-like.T1PKS\": 1.0, \"melanin\": 2.0, \"siderophore\": 4.0, \"RiPP-like\": 1.0, \"PKS-like.T1PKS.butyrolactone.other\": 1.0, \"PKS-like.T1PKS.T2PKS\": 1.0, \"T1PKS.T2PKS\": 1.0, \"NRPS.NRPS-like\": 2.0, \"PKS-like.butyrolactone\": 1.0, \"NRPS.arylpolyene.ladderane\": 1.0, \"ectoine\": 1.0, \"NAPAA\": 1.0, \"T3PKS\": 1.0, \"T1PKS.hglE-KS\": 1.0, \"RiPP-like.lanthipeptide-class-iii\": 1.0, \"lanthipeptide-class-iv\": null, \"NRPS.T1PKS\": null, \"NRPS.T3PKS\": null, \"LAP.NRPS.NRPS-like.T1PKS.other\": null, \"linaridin\": null, \"lanthipeptide-class-iii\": null, \"NRPS-like.T1PKS\": null, \"NRPS.NRPS-like.arylpolyene.ladderane\": null, \"betalactone\": null, \"lanthipeptide-class-i\": null, \"LAP.thiopeptide\": null, \"lanthipeptide-class-ii.lanthipeptide-class-iii\": null, \"PKS-like\": null, \"RRE-containing.amglyccycl\": null, \"T1PKS.terpene\": null, \"T1PKS.linaridin\": null, \"NRPS.NRPS-like.PKS-like.T1PKS.transAT-PKS\": null, \"butyrolactone\": null, \"NRPS.lanthipeptide-class-i\": null, \"T2PKS\": null, \"RiPP-like.bottromycin\": null, \"LAP.PKS-like.T1PKS.butyrolactone\": null, \"T1PKS.indole\": null, \"NRPS.melanin\": null, \"NRPS.NRPS-like.T1PKS\": null, \"NRPS.PKS-like.hglE-KS.transAT-PKS\": null, \"RiPP-like.T1PKS\": null, \"NRPS.T1PKS.transAT-PKS\": null, \"NRPS.T1PKS.furan.hglE-KS\": null, \"NAPAA.NRPS-like\": null, \"PKS-like.T1PKS\": null, \"nucleoside\": null, \"NRPS-like\": null, \"redox-cofactor\": null, \"LAP.thioamitides.thiopeptide\": null, \"thioamitides\": null, \"NRPS.NRPS-like.siderophore\": null, \"arylpolyene.ladderane\": null, \"NRPS.PKS-like.RRE-containing.T2PKS.oligosaccharide\": null, \"lanthipeptide-class-ii\": null, \"NRPS-like.ranthipeptide\": null, \"NRPS.PKS-like\": null, \"NRPS.terpene.transAT-PKS\": null, \"hserlactone\": null, \"PKS-like.terpene\": null, \"RiPP-like.T1PKS.hglE-KS\": null, \"NRPS.T1PKS.lanthipeptide-class-i\": null, \"NAPAA.T1PKS.hglE-KS\": null, \"T1PKS.siderophore\": null, \"RRE-containing\": null, \"ladderane\": null, \"indole\": null, \"NRPS.betalactone\": null, \"gtdb_release\": \"R207\", \"Domain\": \"d__Bacteria\", \"Phylum\": \"p__Actinobacteriota\", \"Class\": \"c__Actinomycetia\", \"Order\": \"o__Streptomycetales\", \"Family\": \"f__Streptomycetaceae\", \"Genus\": \"g__Streptomyces\", \"Species\": \"avermitilis\", \"Organism\": \"s__Streptomyces avermitilis\", \"accession\": \"GCA_000009765.2\", \"name\": \"GCF_000009765.2\", \"trna_aa_count\": 20.0, \"contig_count\": 2.0, \"n50_contigs\": 9025608.0, \"longest_contig\": 9025608.0, \"scaffold_count\": 2.0, \"n50_scaffolds\": 9025608.0, \"longest_scaffold\": 9025608.0, \"genome_size\": 9119895.0, \"gc_percentage\": 70.70135127652237, \"ambiguous_bases\": 0.0, \"checkm_completeness\": 99.89, \"checkm_contamination\": 0.79, \"checkm_strain_heterogeneity\": 0.0, \"lsu_5s_count\": 6, \"ssu_count\": 6, \"lsu_23s_count\": 6, \"protein_count\": 7915, \"coding_density\": 86.30100456200428, \"ncbi_genbank_assembly_accession\": \"GCA_000009765.2\", \"ncbi_strain_identifiers\": \"MA-4680\", \"ncbi_assembly_level\": \"Complete Genome\", \"ncbi_assembly_name\": \"ASM976v2\", \"ncbi_assembly_type\": \"na\", \"ncbi_bioproject\": \"PRJNA224116\", \"ncbi_biosample\": \"SAMD00061088\", \"ncbi_country\": null, \"ncbi_date\": \"2016-03-24\", \"ncbi_genome_category\": null, \"ncbi_genome_representation\": \"full\", \"ncbi_isolate\": null, \"ncbi_isolation_source\": null, \"ncbi_lat_lon\": null, \"ncbi_molecule_count\": 2, \"ncbi_cds_count\": 7850, \"ncbi_refseq_category\": \"representative genome\", \"ncbi_seq_rel_date\": \"2016/03/24\", \"ncbi_spanned_gaps\": 0, \"ncbi_species_taxid\": 33903, \"ncbi_ssu_count\": 6, \"ncbi_submitter\": \"NITE\", \"ncbi_taxid\": 227882, \"ncbi_total_gap_length\": 0, \"ncbi_translation_table\": 11, \"ncbi_trna_count\": 77, \"ncbi_unspanned_gaps\": 0, \"ncbi_version_status\": \"latest\", \"ncbi_wgs_master\": null, \"gtdbTypeDesignation\": \"type strain of species\", \"gtdbTypeDesignationSources\": \"LPSN\", \"lpsnTypeDesignation\": \"type strain of species\", \"dsmzTypeDesignation\": \"type strain of species\", \"lpsnPriorityYear\": 2002.0, \"gtdbTypeSpeciesOfGenus\": false, \"ncbi_taxonomy\": \"d__Bacteria;p__Actinobacteria;c__Actinomycetia;o__Streptomycetales;f__Streptomycetaceae;g__Streptomyces;s__Streptomyces avermitilis\", \"ncbi_taxonomy_unfiltered\": \"d__Bacteria;x__Terrabacteria group;p__Actinobacteria;c__Actinomycetia;o__Streptomycetales;f__Streptomycetaceae;g__Streptomyces;s__Streptomyces avermitilis;x__Streptomyces avermitilis MA-4680 = NBRC 14893\", \"gtdb_representative\": true, \"gtdb_genome_representative\": \"RS_GCF_000009765.2\", \"ncbi_type_material_designation\": \"assembly from type material\", \"gtdbDomain\": \"d__Bacteria\", \"gtdbPhylum\": \"p__Actinobacteriota\", \"gtdbClass\": \"c__Actinomycetia\", \"gtdbOrder\": \"o__Streptomycetales\", \"gtdbFamily\": \"f__Streptomycetaceae\", \"gtdbGenus\": \"g__Streptomyces\", \"gtdbSpecies\": \"s__Streptomyces avermitilis\", \"gtdbTypeDesignation.1\": \"type strain of species\", \"subunit_summary\": \"5S/16S/23S\", \"speciesRepName\": \"GCA_000009765.2\", \"speciesClusterCount\": 9, \"lpsnUrl\": \"https://lpsn.dsmz.de/species/streptomyces-avermitilis\", \"link_ncbi_taxonomy\": \"<a target=\\\"_blank\\\" href=\\\"https://www.ncbi.nlm.nih.gov/Taxonomy/Browser/wwwtax.cgi?id=2\\\">d__Bacteria</a>; <a target=\\\"_blank\\\" href=\\\"https://www.ncbi.nlm.nih.gov/Taxonomy/Browser/wwwtax.cgi?id=201174\\\">p__Actinobacteria</a>; <a target=\\\"_blank\\\" href=\\\"https://www.ncbi.nlm.nih.gov/Taxonomy/Browser/wwwtax.cgi?id=1760\\\">c__Actinomycetia</a>; <a target=\\\"_blank\\\" href=\\\"https://www.ncbi.nlm.nih.gov/Taxonomy/Browser/wwwtax.cgi?id=85011\\\">o__Streptomycetales</a>; <a target=\\\"_blank\\\" href=\\\"https://www.ncbi.nlm.nih.gov/Taxonomy/Browser/wwwtax.cgi?id=2062\\\">f__Streptomycetaceae</a>; <a target=\\\"_blank\\\" href=\\\"https://www.ncbi.nlm.nih.gov/Taxonomy/Browser/wwwtax.cgi?id=1883\\\">g__Streptomyces</a>; <a target=\\\"_blank\\\" href=\\\"https://www.ncbi.nlm.nih.gov/Taxonomy/Browser/wwwtax.cgi?id=33903\\\">s__Streptomyces avermitilis</a>\", \"link_ncbi_taxonomy_unfiltered\": \"<a target=\\\"_blank\\\" href=\\\"https://www.ncbi.nlm.nih.gov/Taxonomy/Browser/wwwtax.cgi?id=2\\\">d__Bacteria</a>; <a target=\\\"_blank\\\" href=\\\"https://www.ncbi.nlm.nih.gov/Taxonomy/Browser/wwwtax.cgi?id=1783272\\\">x__Terrabacteria group</a>; <a target=\\\"_blank\\\" href=\\\"https://www.ncbi.nlm.nih.gov/Taxonomy/Browser/wwwtax.cgi?id=201174\\\">p__Actinobacteria</a>; <a target=\\\"_blank\\\" href=\\\"https://www.ncbi.nlm.nih.gov/Taxonomy/Browser/wwwtax.cgi?id=1760\\\">c__Actinomycetia</a>; <a target=\\\"_blank\\\" href=\\\"https://www.ncbi.nlm.nih.gov/Taxonomy/Browser/wwwtax.cgi?id=85011\\\">o__Streptomycetales</a>; <a target=\\\"_blank\\\" href=\\\"https://www.ncbi.nlm.nih.gov/Taxonomy/Browser/wwwtax.cgi?id=2062\\\">f__Streptomycetaceae</a>; <a target=\\\"_blank\\\" href=\\\"https://www.ncbi.nlm.nih.gov/Taxonomy/Browser/wwwtax.cgi?id=1883\\\">g__Streptomyces</a>; <a target=\\\"_blank\\\" href=\\\"https://www.ncbi.nlm.nih.gov/Taxonomy/Browser/wwwtax.cgi?id=33903\\\">s__Streptomyces avermitilis</a>; <a target=\\\"_blank\\\" href=\\\"https://www.ncbi.nlm.nih.gov/Taxonomy/Browser/wwwtax.cgi?id=227882\\\">x__Streptomyces avermitilis MA-4680 = NBRC 14893</a>\", \"0\": \"{'taxon': 'd__Bacteria', 'taxonId': '2'}\", \"1\": \"{'taxon': 'p__Actinobacteria', 'taxonId': '201174'}\", \"2\": \"{'taxon': 'c__Actinomycetia', 'taxonId': '1760'}\", \"3\": \"{'taxon': 'o__Streptomycetales', 'taxonId': '85011'}\", \"4\": \"{'taxon': 'f__Streptomycetaceae', 'taxonId': '2062'}\", \"5\": \"{'taxon': 'g__Streptomyces', 'taxonId': '1883'}\", \"6\": \"{'taxon': 's__Streptomyces avermitilis', 'taxonId': '33903'}\", \"ncbiTaxonomyUnfiltered\": \"[{'taxon': 'd__Bacteria', 'taxonId': '2'}, {'taxon': 'x__Terrabacteria group', 'taxonId': '1783272'}, {'taxon': 'p__Actinobacteria', 'taxonId': '201174'}, {'taxon': 'c__Actinomycetia', 'taxonId': '1760'}, {'taxon': 'o__Streptomycetales', 'taxonId': '85011'}, {'taxon': 'f__Streptomycetaceae', 'taxonId': '2062'}, {'taxon': 'g__Streptomyces', 'taxonId': '1883'}, {'taxon': 's__Streptomyces avermitilis', 'taxonId': '33903'}, {'taxon': 'x__Streptomyces avermitilis MA-4680 = NBRC 14893', 'taxonId': '227882'}]\"}, {\"genome_id\": \"GCF_000010605.1\", \"source\": \"ncbi\", \"organism\": null, \"genus\": null, \"species\": null, \"strain\": null, \"closest_placement_reference\": null, \"bgcs_count\": 38.0, \"bgcs_on_contig_edge\": 0.0, \"protoclusters_count\": 0.0, \"cand_clusters_count\": 0.0, \"terpene\": 6.0, \"lassopeptide\": null, \"T1PKS\": 1.0, \"NRPS\": 2.0, \"NRPS.NRPS-like.PKS-like.T1PKS\": null, \"melanin\": 3.0, \"siderophore\": 2.0, \"RiPP-like\": 2.0, \"PKS-like.T1PKS.butyrolactone.other\": null, \"PKS-like.T1PKS.T2PKS\": null, \"T1PKS.T2PKS\": null, \"NRPS.NRPS-like\": 1.0, \"PKS-like.butyrolactone\": null, \"NRPS.arylpolyene.ladderane\": null, \"ectoine\": 1.0, \"NAPAA\": null, \"T3PKS\": 1.0, \"T1PKS.hglE-KS\": null, \"RiPP-like.lanthipeptide-class-iii\": null, \"lanthipeptide-class-iv\": 1.0, \"NRPS.T1PKS\": 2.0, \"NRPS.T3PKS\": 1.0, \"LAP.NRPS.NRPS-like.T1PKS.other\": 1.0, \"linaridin\": 1.0, \"lanthipeptide-class-iii\": 1.0, \"NRPS-like.T1PKS\": 1.0, \"NRPS.NRPS-like.arylpolyene.ladderane\": 1.0, \"betalactone\": 1.0, \"lanthipeptide-class-i\": 1.0, \"LAP.thiopeptide\": 1.0, \"lanthipeptide-class-ii.lanthipeptide-class-iii\": 1.0, \"PKS-like\": 1.0, \"RRE-containing.amglyccycl\": 1.0, \"T1PKS.terpene\": 1.0, \"T1PKS.linaridin\": 1.0, \"NRPS.NRPS-like.PKS-like.T1PKS.transAT-PKS\": 1.0, \"butyrolactone\": 1.0, \"NRPS.lanthipeptide-class-i\": null, \"T2PKS\": null, \"RiPP-like.bottromycin\": null, \"LAP.PKS-like.T1PKS.butyrolactone\": null, \"T1PKS.indole\": null, \"NRPS.melanin\": null, \"NRPS.NRPS-like.T1PKS\": null, \"NRPS.PKS-like.hglE-KS.transAT-PKS\": null, \"RiPP-like.T1PKS\": null, \"NRPS.T1PKS.transAT-PKS\": null, \"NRPS.T1PKS.furan.hglE-KS\": null, \"NAPAA.NRPS-like\": null, \"PKS-like.T1PKS\": null, \"nucleoside\": null, \"NRPS-like\": null, \"redox-cofactor\": null, \"LAP.thioamitides.thiopeptide\": null, \"thioamitides\": null, \"NRPS.NRPS-like.siderophore\": null, \"arylpolyene.ladderane\": null, \"NRPS.PKS-like.RRE-containing.T2PKS.oligosaccharide\": null, \"lanthipeptide-class-ii\": null, \"NRPS-like.ranthipeptide\": null, \"NRPS.PKS-like\": null, \"NRPS.terpene.transAT-PKS\": null, \"hserlactone\": null, \"PKS-like.terpene\": null, \"RiPP-like.T1PKS.hglE-KS\": null, \"NRPS.T1PKS.lanthipeptide-class-i\": null, \"NAPAA.T1PKS.hglE-KS\": null, \"T1PKS.siderophore\": null, \"RRE-containing\": null, \"ladderane\": null, \"indole\": null, \"NRPS.betalactone\": null, \"gtdb_release\": \"R207\", \"Domain\": \"d__Bacteria\", \"Phylum\": \"p__Actinobacteriota\", \"Class\": \"c__Actinomycetia\", \"Order\": \"o__Streptomycetales\", \"Family\": \"f__Streptomycetaceae\", \"Genus\": \"g__Streptomyces\", \"Species\": \"griseus\", \"Organism\": \"s__Streptomyces griseus\", \"accession\": \"GCA_000010605.1\", \"name\": \"GCF_000010605.1\", \"trna_aa_count\": 20.0, \"contig_count\": 1.0, \"n50_contigs\": 8545929.0, \"longest_contig\": 8545929.0, \"scaffold_count\": 1.0, \"n50_scaffolds\": 8545929.0, \"longest_scaffold\": 8545929.0, \"genome_size\": 8545929.0, \"gc_percentage\": 72.22740792721306, \"ambiguous_bases\": 0.0, \"checkm_completeness\": 99.84, \"checkm_contamination\": 0.0, \"checkm_strain_heterogeneity\": 0.0, \"lsu_5s_count\": 6, \"ssu_count\": 6, \"lsu_23s_count\": 6, \"protein_count\": 7113, \"coding_density\": 87.70147751051992, \"ncbi_genbank_assembly_accession\": \"GCA_000010605.1\", \"ncbi_strain_identifiers\": \"NBRC 13350\", \"ncbi_assembly_level\": \"Complete Genome\", \"ncbi_assembly_name\": \"ASM1060v1\", \"ncbi_assembly_type\": \"na\", \"ncbi_bioproject\": \"PRJNA224116\", \"ncbi_biosample\": \"SAMD00060929\", \"ncbi_country\": null, \"ncbi_date\": \"2008-04-08\", \"ncbi_genome_category\": null, \"ncbi_genome_representation\": \"full\", \"ncbi_isolate\": null, \"ncbi_isolation_source\": null, \"ncbi_lat_lon\": null, \"ncbi_molecule_count\": 1, \"ncbi_cds_count\": 7092, \"ncbi_refseq_category\": \"representative genome\", \"ncbi_seq_rel_date\": \"2008/04/08\", \"ncbi_spanned_gaps\": 0, \"ncbi_species_taxid\": 1911, \"ncbi_ssu_count\": 6, \"ncbi_submitter\": \"The University of Tokyo\", \"ncbi_taxid\": 455632, \"ncbi_total_gap_length\": 0, \"ncbi_translation_table\": 11, \"ncbi_trna_count\": 67, \"ncbi_unspanned_gaps\": 0, \"ncbi_version_status\": \"latest\", \"ncbi_wgs_master\": null, \"gtdbTypeDesignation\": \"not type material\", \"gtdbTypeDesignationSources\": null, \"lpsnTypeDesignation\": \"not type material\", \"dsmzTypeDesignation\": \"not type material\", \"lpsnPriorityYear\": null, \"gtdbTypeSpeciesOfGenus\": false, \"ncbi_taxonomy\": \"d__Bacteria;p__Actinobacteria;c__Actinomycetia;o__Streptomycetales;f__Streptomycetaceae;g__Streptomyces;s__Streptomyces griseus\", \"ncbi_taxonomy_unfiltered\": \"d__Bacteria;x__Terrabacteria group;p__Actinobacteria;c__Actinomycetia;o__Streptomycetales;f__Streptomycetaceae;g__Streptomyces;x__Streptomyces griseus group;x__Streptomyces griseus subgroup;s__Streptomyces griseus;sb__Streptomyces griseus subsp. griseus;x__Streptomyces griseus subsp. griseus NBRC 13350\", \"gtdb_representative\": false, \"gtdb_genome_representative\": \"RS_GCF_900460065.1\", \"ncbi_type_material_designation\": null, \"gtdbDomain\": \"d__Bacteria\", \"gtdbPhylum\": \"p__Actinobacteriota\", \"gtdbClass\": \"c__Actinomycetia\", \"gtdbOrder\": \"o__Streptomycetales\", \"gtdbFamily\": \"f__Streptomycetaceae\", \"gtdbGenus\": \"g__Streptomyces\", \"gtdbSpecies\": \"s__Streptomyces griseus\", \"gtdbTypeDesignation.1\": \"not type material\", \"subunit_summary\": \"5S/16S/23S\", \"speciesRepName\": \"GCA_900460065.1\", \"speciesClusterCount\": 10, \"lpsnUrl\": \"https://lpsn.dsmz.de/species/streptomyces-griseus\", \"link_ncbi_taxonomy\": \"<a target=\\\"_blank\\\" href=\\\"https://www.ncbi.nlm.nih.gov/Taxonomy/Browser/wwwtax.cgi?id=2\\\">d__Bacteria</a>; <a target=\\\"_blank\\\" href=\\\"https://www.ncbi.nlm.nih.gov/Taxonomy/Browser/wwwtax.cgi?id=201174\\\">p__Actinobacteria</a>; <a target=\\\"_blank\\\" href=\\\"https://www.ncbi.nlm.nih.gov/Taxonomy/Browser/wwwtax.cgi?id=1760\\\">c__Actinomycetia</a>; <a target=\\\"_blank\\\" href=\\\"https://www.ncbi.nlm.nih.gov/Taxonomy/Browser/wwwtax.cgi?id=85011\\\">o__Streptomycetales</a>; <a target=\\\"_blank\\\" href=\\\"https://www.ncbi.nlm.nih.gov/Taxonomy/Browser/wwwtax.cgi?id=2062\\\">f__Streptomycetaceae</a>; <a target=\\\"_blank\\\" href=\\\"https://www.ncbi.nlm.nih.gov/Taxonomy/Browser/wwwtax.cgi?id=1883\\\">g__Streptomyces</a>; <a target=\\\"_blank\\\" href=\\\"https://www.ncbi.nlm.nih.gov/Taxonomy/Browser/wwwtax.cgi?id=1911\\\">s__Streptomyces griseus</a>\", \"link_ncbi_taxonomy_unfiltered\": \"<a target=\\\"_blank\\\" href=\\\"https://www.ncbi.nlm.nih.gov/Taxonomy/Browser/wwwtax.cgi?id=2\\\">d__Bacteria</a>; <a target=\\\"_blank\\\" href=\\\"https://www.ncbi.nlm.nih.gov/Taxonomy/Browser/wwwtax.cgi?id=1783272\\\">x__Terrabacteria group</a>; <a target=\\\"_blank\\\" href=\\\"https://www.ncbi.nlm.nih.gov/Taxonomy/Browser/wwwtax.cgi?id=201174\\\">p__Actinobacteria</a>; <a target=\\\"_blank\\\" href=\\\"https://www.ncbi.nlm.nih.gov/Taxonomy/Browser/wwwtax.cgi?id=1760\\\">c__Actinomycetia</a>; <a target=\\\"_blank\\\" href=\\\"https://www.ncbi.nlm.nih.gov/Taxonomy/Browser/wwwtax.cgi?id=85011\\\">o__Streptomycetales</a>; <a target=\\\"_blank\\\" href=\\\"https://www.ncbi.nlm.nih.gov/Taxonomy/Browser/wwwtax.cgi?id=2062\\\">f__Streptomycetaceae</a>; <a target=\\\"_blank\\\" href=\\\"https://www.ncbi.nlm.nih.gov/Taxonomy/Browser/wwwtax.cgi?id=1883\\\">g__Streptomyces</a>; <a target=\\\"_blank\\\" href=\\\"https://www.ncbi.nlm.nih.gov/Taxonomy/Browser/wwwtax.cgi?id=629295\\\">x__Streptomyces griseus group</a>; <a target=\\\"_blank\\\" href=\\\"https://www.ncbi.nlm.nih.gov/Taxonomy/Browser/wwwtax.cgi?id=1482596\\\">x__Streptomyces griseus subgroup</a>; <a target=\\\"_blank\\\" href=\\\"https://www.ncbi.nlm.nih.gov/Taxonomy/Browser/wwwtax.cgi?id=1911\\\">s__Streptomyces griseus</a>; <a target=\\\"_blank\\\" href=\\\"https://www.ncbi.nlm.nih.gov/Taxonomy/Browser/wwwtax.cgi?id=67263\\\">sb__Streptomyces griseus subsp. griseus</a>; <a target=\\\"_blank\\\" href=\\\"https://www.ncbi.nlm.nih.gov/Taxonomy/Browser/wwwtax.cgi?id=455632\\\">x__Streptomyces griseus subsp. griseus NBRC 13350</a>\", \"0\": \"{'taxon': 'd__Bacteria', 'taxonId': '2'}\", \"1\": \"{'taxon': 'p__Actinobacteria', 'taxonId': '201174'}\", \"2\": \"{'taxon': 'c__Actinomycetia', 'taxonId': '1760'}\", \"3\": \"{'taxon': 'o__Streptomycetales', 'taxonId': '85011'}\", \"4\": \"{'taxon': 'f__Streptomycetaceae', 'taxonId': '2062'}\", \"5\": \"{'taxon': 'g__Streptomyces', 'taxonId': '1883'}\", \"6\": \"{'taxon': 's__Streptomyces griseus', 'taxonId': '1911'}\", \"ncbiTaxonomyUnfiltered\": \"[{'taxon': 'd__Bacteria', 'taxonId': '2'}, {'taxon': 'x__Terrabacteria group', 'taxonId': '1783272'}, {'taxon': 'p__Actinobacteria', 'taxonId': '201174'}, {'taxon': 'c__Actinomycetia', 'taxonId': '1760'}, {'taxon': 'o__Streptomycetales', 'taxonId': '85011'}, {'taxon': 'f__Streptomycetaceae', 'taxonId': '2062'}, {'taxon': 'g__Streptomyces', 'taxonId': '1883'}, {'taxon': 'x__Streptomyces griseus group', 'taxonId': '629295'}, {'taxon': 'x__Streptomyces griseus subgroup', 'taxonId': '1482596'}, {'taxon': 's__Streptomyces griseus', 'taxonId': '1911'}, {'taxon': 'sb__Streptomyces griseus subsp. griseus', 'taxonId': '67263'}, {'taxon': 'x__Streptomyces griseus subsp. griseus NBRC 13350', 'taxonId': '455632'}]\"}, {\"genome_id\": \"GCF_000091305.1\", \"source\": \"ncbi\", \"organism\": null, \"genus\": null, \"species\": null, \"strain\": null, \"closest_placement_reference\": null, \"bgcs_count\": 34.0, \"bgcs_on_contig_edge\": 0.0, \"protoclusters_count\": 0.0, \"cand_clusters_count\": 0.0, \"terpene\": 8.0, \"lassopeptide\": null, \"T1PKS\": 1.0, \"NRPS\": 1.0, \"NRPS.NRPS-like.PKS-like.T1PKS\": null, \"melanin\": 1.0, \"siderophore\": 4.0, \"RiPP-like\": 1.0, \"PKS-like.T1PKS.butyrolactone.other\": null, \"PKS-like.T1PKS.T2PKS\": null, \"T1PKS.T2PKS\": null, \"NRPS.NRPS-like\": 1.0, \"PKS-like.butyrolactone\": null, \"NRPS.arylpolyene.ladderane\": null, \"ectoine\": 1.0, \"NAPAA\": 2.0, \"T3PKS\": 1.0, \"T1PKS.hglE-KS\": null, \"RiPP-like.lanthipeptide-class-iii\": 1.0, \"lanthipeptide-class-iv\": null, \"NRPS.T1PKS\": 1.0, \"NRPS.T3PKS\": null, \"LAP.NRPS.NRPS-like.T1PKS.other\": null, \"linaridin\": null, \"lanthipeptide-class-iii\": 2.0, \"NRPS-like.T1PKS\": null, \"NRPS.NRPS-like.arylpolyene.ladderane\": null, \"betalactone\": 1.0, \"lanthipeptide-class-i\": null, \"LAP.thiopeptide\": null, \"lanthipeptide-class-ii.lanthipeptide-class-iii\": null, \"PKS-like\": null, \"RRE-containing.amglyccycl\": null, \"T1PKS.terpene\": null, \"T1PKS.linaridin\": 1.0, \"NRPS.NRPS-like.PKS-like.T1PKS.transAT-PKS\": null, \"butyrolactone\": 1.0, \"NRPS.lanthipeptide-class-i\": 1.0, \"T2PKS\": 1.0, \"RiPP-like.bottromycin\": 1.0, \"LAP.PKS-like.T1PKS.butyrolactone\": 1.0, \"T1PKS.indole\": 1.0, \"NRPS.melanin\": 1.0, \"NRPS.NRPS-like.T1PKS\": null, \"NRPS.PKS-like.hglE-KS.transAT-PKS\": null, \"RiPP-like.T1PKS\": null, \"NRPS.T1PKS.transAT-PKS\": null, \"NRPS.T1PKS.furan.hglE-KS\": null, \"NAPAA.NRPS-like\": null, \"PKS-like.T1PKS\": null, \"nucleoside\": null, \"NRPS-like\": null, \"redox-cofactor\": null, \"LAP.thioamitides.thiopeptide\": null, \"thioamitides\": null, \"NRPS.NRPS-like.siderophore\": null, \"arylpolyene.ladderane\": null, \"NRPS.PKS-like.RRE-containing.T2PKS.oligosaccharide\": null, \"lanthipeptide-class-ii\": null, \"NRPS-like.ranthipeptide\": null, \"NRPS.PKS-like\": null, \"NRPS.terpene.transAT-PKS\": null, \"hserlactone\": null, \"PKS-like.terpene\": null, \"RiPP-like.T1PKS.hglE-KS\": null, \"NRPS.T1PKS.lanthipeptide-class-i\": null, \"NAPAA.T1PKS.hglE-KS\": null, \"T1PKS.siderophore\": null, \"RRE-containing\": null, \"ladderane\": null, \"indole\": null, \"NRPS.betalactone\": null, \"gtdb_release\": \"R207\", \"Domain\": \"d__Bacteria\", \"Phylum\": \"p__Actinobacteriota\", \"Class\": \"c__Actinomycetia\", \"Order\": \"o__Streptomycetales\", \"Family\": \"f__Streptomycetaceae\", \"Genus\": \"g__Streptomyces\", \"Species\": \"scabiei\", \"Organism\": \"s__Streptomyces scabiei\", \"accession\": \"GCA_000091305.1\", \"name\": \"GCF_000091305.1\", \"trna_aa_count\": 20.0, \"contig_count\": 1.0, \"n50_contigs\": 10148695.0, \"longest_contig\": 10148695.0, \"scaffold_count\": 1.0, \"n50_scaffolds\": 10148695.0, \"longest_scaffold\": 10148695.0, \"genome_size\": 10148695.0, \"gc_percentage\": 71.45283211289727, \"ambiguous_bases\": 0.0, \"checkm_completeness\": 100.0, \"checkm_contamination\": 0.0, \"checkm_strain_heterogeneity\": 0.0, \"lsu_5s_count\": 6, \"ssu_count\": 6, \"lsu_23s_count\": 6, \"protein_count\": 8791, \"coding_density\": 87.16080244799947, \"ncbi_genbank_assembly_accession\": \"GCA_000091305.1\", \"ncbi_strain_identifiers\": \"87.22\", \"ncbi_assembly_level\": \"Complete Genome\", \"ncbi_assembly_name\": \"ASM9130v1\", \"ncbi_assembly_type\": \"na\", \"ncbi_bioproject\": \"PRJNA224116\", \"ncbi_biosample\": \"SAMEA2272773\", \"ncbi_country\": null, \"ncbi_date\": \"2009-10-06\", \"ncbi_genome_category\": null, \"ncbi_genome_representation\": \"full\", \"ncbi_isolate\": null, \"ncbi_isolation_source\": null, \"ncbi_lat_lon\": null, \"ncbi_molecule_count\": 1, \"ncbi_cds_count\": 8737, \"ncbi_refseq_category\": \"representative genome\", \"ncbi_seq_rel_date\": \"2009/10/06\", \"ncbi_spanned_gaps\": 0, \"ncbi_species_taxid\": 1930, \"ncbi_ssu_count\": 6, \"ncbi_submitter\": \"Wellcome Trust Sanger Institute\", \"ncbi_taxid\": 680198, \"ncbi_total_gap_length\": 0, \"ncbi_translation_table\": 11, \"ncbi_trna_count\": 73, \"ncbi_unspanned_gaps\": 0, \"ncbi_version_status\": \"latest\", \"ncbi_wgs_master\": null, \"gtdbTypeDesignation\": \"not type material\", \"gtdbTypeDesignationSources\": null, \"lpsnTypeDesignation\": \"not type material\", \"dsmzTypeDesignation\": \"not type material\", \"lpsnPriorityYear\": null, \"gtdbTypeSpeciesOfGenus\": false, \"ncbi_taxonomy\": \"d__Bacteria;p__Actinobacteria;c__Actinomycetia;o__Streptomycetales;f__Streptomycetaceae;g__Streptomyces;s__Streptomyces scabiei\", \"ncbi_taxonomy_unfiltered\": \"d__Bacteria;x__Terrabacteria group;p__Actinobacteria;c__Actinomycetia;o__Streptomycetales;f__Streptomycetaceae;g__Streptomyces;s__Streptomyces scabiei;x__Streptomyces scabiei 87.22\", \"gtdb_representative\": true, \"gtdb_genome_representative\": \"RS_GCF_000091305.1\", \"ncbi_type_material_designation\": null, \"gtdbDomain\": \"d__Bacteria\", \"gtdbPhylum\": \"p__Actinobacteriota\", \"gtdbClass\": \"c__Actinomycetia\", \"gtdbOrder\": \"o__Streptomycetales\", \"gtdbFamily\": \"f__Streptomycetaceae\", \"gtdbGenus\": \"g__Streptomyces\", \"gtdbSpecies\": \"s__Streptomyces scabiei\", \"gtdbTypeDesignation.1\": \"not type material\", \"subunit_summary\": \"5S/16S/23S\", \"speciesRepName\": \"GCA_000091305.1\", \"speciesClusterCount\": 16, \"lpsnUrl\": \"https://lpsn.dsmz.de/species/streptomyces-scabiei\", \"link_ncbi_taxonomy\": \"<a target=\\\"_blank\\\" href=\\\"https://www.ncbi.nlm.nih.gov/Taxonomy/Browser/wwwtax.cgi?id=2\\\">d__Bacteria</a>; <a target=\\\"_blank\\\" href=\\\"https://www.ncbi.nlm.nih.gov/Taxonomy/Browser/wwwtax.cgi?id=201174\\\">p__Actinobacteria</a>; <a target=\\\"_blank\\\" href=\\\"https://www.ncbi.nlm.nih.gov/Taxonomy/Browser/wwwtax.cgi?id=1760\\\">c__Actinomycetia</a>; <a target=\\\"_blank\\\" href=\\\"https://www.ncbi.nlm.nih.gov/Taxonomy/Browser/wwwtax.cgi?id=85011\\\">o__Streptomycetales</a>; <a target=\\\"_blank\\\" href=\\\"https://www.ncbi.nlm.nih.gov/Taxonomy/Browser/wwwtax.cgi?id=2062\\\">f__Streptomycetaceae</a>; <a target=\\\"_blank\\\" href=\\\"https://www.ncbi.nlm.nih.gov/Taxonomy/Browser/wwwtax.cgi?id=1883\\\">g__Streptomyces</a>; <a target=\\\"_blank\\\" href=\\\"https://www.ncbi.nlm.nih.gov/Taxonomy/Browser/wwwtax.cgi?id=1930\\\">s__Streptomyces scabiei</a>\", \"link_ncbi_taxonomy_unfiltered\": \"<a target=\\\"_blank\\\" href=\\\"https://www.ncbi.nlm.nih.gov/Taxonomy/Browser/wwwtax.cgi?id=2\\\">d__Bacteria</a>; <a target=\\\"_blank\\\" href=\\\"https://www.ncbi.nlm.nih.gov/Taxonomy/Browser/wwwtax.cgi?id=1783272\\\">x__Terrabacteria group</a>; <a target=\\\"_blank\\\" href=\\\"https://www.ncbi.nlm.nih.gov/Taxonomy/Browser/wwwtax.cgi?id=201174\\\">p__Actinobacteria</a>; <a target=\\\"_blank\\\" href=\\\"https://www.ncbi.nlm.nih.gov/Taxonomy/Browser/wwwtax.cgi?id=1760\\\">c__Actinomycetia</a>; <a target=\\\"_blank\\\" href=\\\"https://www.ncbi.nlm.nih.gov/Taxonomy/Browser/wwwtax.cgi?id=85011\\\">o__Streptomycetales</a>; <a target=\\\"_blank\\\" href=\\\"https://www.ncbi.nlm.nih.gov/Taxonomy/Browser/wwwtax.cgi?id=2062\\\">f__Streptomycetaceae</a>; <a target=\\\"_blank\\\" href=\\\"https://www.ncbi.nlm.nih.gov/Taxonomy/Browser/wwwtax.cgi?id=1883\\\">g__Streptomyces</a>; <a target=\\\"_blank\\\" href=\\\"https://www.ncbi.nlm.nih.gov/Taxonomy/Browser/wwwtax.cgi?id=1930\\\">s__Streptomyces scabiei</a>; <a target=\\\"_blank\\\" href=\\\"https://www.ncbi.nlm.nih.gov/Taxonomy/Browser/wwwtax.cgi?id=680198\\\">x__Streptomyces scabiei 87.22</a>\", \"0\": \"{'taxon': 'd__Bacteria', 'taxonId': '2'}\", \"1\": \"{'taxon': 'p__Actinobacteria', 'taxonId': '201174'}\", \"2\": \"{'taxon': 'c__Actinomycetia', 'taxonId': '1760'}\", \"3\": \"{'taxon': 'o__Streptomycetales', 'taxonId': '85011'}\", \"4\": \"{'taxon': 'f__Streptomycetaceae', 'taxonId': '2062'}\", \"5\": \"{'taxon': 'g__Streptomyces', 'taxonId': '1883'}\", \"6\": \"{'taxon': 's__Streptomyces scabiei', 'taxonId': '1930'}\", \"ncbiTaxonomyUnfiltered\": \"[{'taxon': 'd__Bacteria', 'taxonId': '2'}, {'taxon': 'x__Terrabacteria group', 'taxonId': '1783272'}, {'taxon': 'p__Actinobacteria', 'taxonId': '201174'}, {'taxon': 'c__Actinomycetia', 'taxonId': '1760'}, {'taxon': 'o__Streptomycetales', 'taxonId': '85011'}, {'taxon': 'f__Streptomycetaceae', 'taxonId': '2062'}, {'taxon': 'g__Streptomyces', 'taxonId': '1883'}, {'taxon': 's__Streptomyces scabiei', 'taxonId': '1930'}, {'taxon': 'x__Streptomyces scabiei 87.22', 'taxonId': '680198'}]\"}, {\"genome_id\": \"GCF_000092385.1\", \"source\": \"ncbi\", \"organism\": null, \"genus\": null, \"species\": null, \"strain\": null, \"closest_placement_reference\": null, \"bgcs_count\": 51.0, \"bgcs_on_contig_edge\": 1.0, \"protoclusters_count\": 0.0, \"cand_clusters_count\": 0.0, \"terpene\": 6.0, \"lassopeptide\": 1.0, \"T1PKS\": 6.0, \"NRPS\": 2.0, \"NRPS.NRPS-like.PKS-like.T1PKS\": null, \"melanin\": null, \"siderophore\": 2.0, \"RiPP-like\": 2.0, \"PKS-like.T1PKS.butyrolactone.other\": null, \"PKS-like.T1PKS.T2PKS\": null, \"T1PKS.T2PKS\": null, \"NRPS.NRPS-like\": null, \"PKS-like.butyrolactone\": null, \"NRPS.arylpolyene.ladderane\": null, \"ectoine\": 1.0, \"NAPAA\": null, \"T3PKS\": null, \"T1PKS.hglE-KS\": null, \"RiPP-like.lanthipeptide-class-iii\": null, \"lanthipeptide-class-iv\": null, \"NRPS.T1PKS\": 2.0, \"NRPS.T3PKS\": null, \"LAP.NRPS.NRPS-like.T1PKS.other\": null, \"linaridin\": null, \"lanthipeptide-class-iii\": 1.0, \"NRPS-like.T1PKS\": 1.0, \"NRPS.NRPS-like.arylpolyene.ladderane\": null, \"betalactone\": null, \"lanthipeptide-class-i\": 1.0, \"LAP.thiopeptide\": null, \"lanthipeptide-class-ii.lanthipeptide-class-iii\": null, \"PKS-like\": 1.0, \"RRE-containing.amglyccycl\": null, \"T1PKS.terpene\": null, \"T1PKS.linaridin\": null, \"NRPS.NRPS-like.PKS-like.T1PKS.transAT-PKS\": null, \"butyrolactone\": 1.0, \"NRPS.lanthipeptide-class-i\": null, \"T2PKS\": 1.0, \"RiPP-like.bottromycin\": null, \"LAP.PKS-like.T1PKS.butyrolactone\": null, \"T1PKS.indole\": null, \"NRPS.melanin\": null, \"NRPS.NRPS-like.T1PKS\": 2.0, \"NRPS.PKS-like.hglE-KS.transAT-PKS\": 1.0, \"RiPP-like.T1PKS\": 1.0, \"NRPS.T1PKS.transAT-PKS\": 1.0, \"NRPS.T1PKS.furan.hglE-KS\": 1.0, \"NAPAA.NRPS-like\": 1.0, \"PKS-like.T1PKS\": 1.0, \"nucleoside\": 1.0, \"NRPS-like\": 3.0, \"redox-cofactor\": 1.0, \"LAP.thioamitides.thiopeptide\": 1.0, \"thioamitides\": 1.0, \"NRPS.NRPS-like.siderophore\": 1.0, \"arylpolyene.ladderane\": 1.0, \"NRPS.PKS-like.RRE-containing.T2PKS.oligosaccharide\": 1.0, \"lanthipeptide-class-ii\": 2.0, \"NRPS-like.ranthipeptide\": 1.0, \"NRPS.PKS-like\": 1.0, \"NRPS.terpene.transAT-PKS\": 1.0, \"hserlactone\": null, \"PKS-like.terpene\": null, \"RiPP-like.T1PKS.hglE-KS\": null, \"NRPS.T1PKS.lanthipeptide-class-i\": null, \"NAPAA.T1PKS.hglE-KS\": null, \"T1PKS.siderophore\": null, \"RRE-containing\": null, \"ladderane\": null, \"indole\": null, \"NRPS.betalactone\": null, \"gtdb_release\": \"R207\", \"Domain\": \"d__Bacteria\", \"Phylum\": \"p__Actinobacteriota\", \"Class\": \"c__Actinomycetia\", \"Order\": \"o__Streptomycetales\", \"Family\": \"f__Streptomycetaceae\", \"Genus\": \"g__Streptomyces\", \"Species\": \"milbemycinicus\", \"Organism\": \"s__Streptomyces milbemycinicus\", \"accession\": \"GCA_000092385.1\", \"name\": \"GCF_000092385.1\", \"trna_aa_count\": 20.0, \"contig_count\": 1.0, \"n50_contigs\": 11936683.0, \"longest_contig\": 11936683.0, \"scaffold_count\": 1.0, \"n50_scaffolds\": 11936683.0, \"longest_scaffold\": 11936683.0, \"genome_size\": 11936683.0, \"gc_percentage\": 70.75458902611386, \"ambiguous_bases\": 0.0, \"checkm_completeness\": 99.74, \"checkm_contamination\": 1.96, \"checkm_strain_heterogeneity\": 28.57, \"lsu_5s_count\": 6, \"ssu_count\": 6, \"lsu_23s_count\": 6, \"protein_count\": 9968, \"coding_density\": 88.50826481695124, \"ncbi_genbank_assembly_accession\": \"GCA_000092385.1\", \"ncbi_strain_identifiers\": \"BCW-1\", \"ncbi_assembly_level\": \"Complete Genome\", \"ncbi_assembly_name\": \"ASM9238v1\", \"ncbi_assembly_type\": \"na\", \"ncbi_bioproject\": \"PRJNA224116\", \"ncbi_biosample\": \"SAMN02603683\", \"ncbi_country\": null, \"ncbi_date\": \"2010-05-28\", \"ncbi_genome_category\": null, \"ncbi_genome_representation\": \"full\", \"ncbi_isolate\": null, \"ncbi_isolation_source\": null, \"ncbi_lat_lon\": null, \"ncbi_molecule_count\": 1, \"ncbi_cds_count\": 9974, \"ncbi_refseq_category\": \"representative genome\", \"ncbi_seq_rel_date\": \"2010/05/28\", \"ncbi_spanned_gaps\": 0, \"ncbi_species_taxid\": 379067, \"ncbi_ssu_count\": 6, \"ncbi_submitter\": \"Northeast Agricultural University\", \"ncbi_taxid\": 749414, \"ncbi_total_gap_length\": 0, \"ncbi_translation_table\": 11, \"ncbi_trna_count\": 68, \"ncbi_unspanned_gaps\": 0, \"ncbi_version_status\": \"latest\", \"ncbi_wgs_master\": null, \"gtdbTypeDesignation\": \"not type material\", \"gtdbTypeDesignationSources\": null, \"lpsnTypeDesignation\": \"not type material\", \"dsmzTypeDesignation\": \"not type material\", \"lpsnPriorityYear\": null, \"gtdbTypeSpeciesOfGenus\": false, \"ncbi_taxonomy\": \"d__Bacteria;p__Actinobacteria;c__Actinomycetia;o__Streptomycetales;f__Streptomycetaceae;g__Streptomyces;s__Streptomyces bingchenggensis\", \"ncbi_taxonomy_unfiltered\": \"d__Bacteria;x__Terrabacteria group;p__Actinobacteria;c__Actinomycetia;o__Streptomycetales;f__Streptomycetaceae;g__Streptomyces;s__Streptomyces bingchenggensis;x__Streptomyces bingchenggensis BCW-1\", \"gtdb_representative\": false, \"gtdb_genome_representative\": \"RS_GCF_002154605.1\", \"ncbi_type_material_designation\": null, \"gtdbDomain\": \"d__Bacteria\", \"gtdbPhylum\": \"p__Actinobacteriota\", \"gtdbClass\": \"c__Actinomycetia\", \"gtdbOrder\": \"o__Streptomycetales\", \"gtdbFamily\": \"f__Streptomycetaceae\", \"gtdbGenus\": \"g__Streptomyces\", \"gtdbSpecies\": \"s__Streptomyces milbemycinicus\", \"gtdbTypeDesignation.1\": \"not type material\", \"subunit_summary\": \"5S/16S/23S\", \"speciesRepName\": \"GCA_002154605.1\", \"speciesClusterCount\": 2, \"lpsnUrl\": \"https://lpsn.dsmz.de/species/streptomyces-milbemycinicus\", \"link_ncbi_taxonomy\": \"<a target=\\\"_blank\\\" href=\\\"https://www.ncbi.nlm.nih.gov/Taxonomy/Browser/wwwtax.cgi?id=2\\\">d__Bacteria</a>; <a target=\\\"_blank\\\" href=\\\"https://www.ncbi.nlm.nih.gov/Taxonomy/Browser/wwwtax.cgi?id=201174\\\">p__Actinobacteria</a>; <a target=\\\"_blank\\\" href=\\\"https://www.ncbi.nlm.nih.gov/Taxonomy/Browser/wwwtax.cgi?id=1760\\\">c__Actinomycetia</a>; <a target=\\\"_blank\\\" href=\\\"https://www.ncbi.nlm.nih.gov/Taxonomy/Browser/wwwtax.cgi?id=85011\\\">o__Streptomycetales</a>; <a target=\\\"_blank\\\" href=\\\"https://www.ncbi.nlm.nih.gov/Taxonomy/Browser/wwwtax.cgi?id=2062\\\">f__Streptomycetaceae</a>; <a target=\\\"_blank\\\" href=\\\"https://www.ncbi.nlm.nih.gov/Taxonomy/Browser/wwwtax.cgi?id=1883\\\">g__Streptomyces</a>; <a target=\\\"_blank\\\" href=\\\"https://www.ncbi.nlm.nih.gov/Taxonomy/Browser/wwwtax.cgi?id=379067\\\">s__Streptomyces bingchenggensis</a>\", \"link_ncbi_taxonomy_unfiltered\": \"<a target=\\\"_blank\\\" href=\\\"https://www.ncbi.nlm.nih.gov/Taxonomy/Browser/wwwtax.cgi?id=2\\\">d__Bacteria</a>; <a target=\\\"_blank\\\" href=\\\"https://www.ncbi.nlm.nih.gov/Taxonomy/Browser/wwwtax.cgi?id=1783272\\\">x__Terrabacteria group</a>; <a target=\\\"_blank\\\" href=\\\"https://www.ncbi.nlm.nih.gov/Taxonomy/Browser/wwwtax.cgi?id=201174\\\">p__Actinobacteria</a>; <a target=\\\"_blank\\\" href=\\\"https://www.ncbi.nlm.nih.gov/Taxonomy/Browser/wwwtax.cgi?id=1760\\\">c__Actinomycetia</a>; <a target=\\\"_blank\\\" href=\\\"https://www.ncbi.nlm.nih.gov/Taxonomy/Browser/wwwtax.cgi?id=85011\\\">o__Streptomycetales</a>; <a target=\\\"_blank\\\" href=\\\"https://www.ncbi.nlm.nih.gov/Taxonomy/Browser/wwwtax.cgi?id=2062\\\">f__Streptomycetaceae</a>; <a target=\\\"_blank\\\" href=\\\"https://www.ncbi.nlm.nih.gov/Taxonomy/Browser/wwwtax.cgi?id=1883\\\">g__Streptomyces</a>; <a target=\\\"_blank\\\" href=\\\"https://www.ncbi.nlm.nih.gov/Taxonomy/Browser/wwwtax.cgi?id=379067\\\">s__Streptomyces bingchenggensis</a>; <a target=\\\"_blank\\\" href=\\\"https://www.ncbi.nlm.nih.gov/Taxonomy/Browser/wwwtax.cgi?id=749414\\\">x__Streptomyces bingchenggensis BCW-1</a>\", \"0\": \"{'taxon': 'd__Bacteria', 'taxonId': '2'}\", \"1\": \"{'taxon': 'p__Actinobacteria', 'taxonId': '201174'}\", \"2\": \"{'taxon': 'c__Actinomycetia', 'taxonId': '1760'}\", \"3\": \"{'taxon': 'o__Streptomycetales', 'taxonId': '85011'}\", \"4\": \"{'taxon': 'f__Streptomycetaceae', 'taxonId': '2062'}\", \"5\": \"{'taxon': 'g__Streptomyces', 'taxonId': '1883'}\", \"6\": \"{'taxon': 's__Streptomyces bingchenggensis', 'taxonId': '379067'}\", \"ncbiTaxonomyUnfiltered\": \"[{'taxon': 'd__Bacteria', 'taxonId': '2'}, {'taxon': 'x__Terrabacteria group', 'taxonId': '1783272'}, {'taxon': 'p__Actinobacteria', 'taxonId': '201174'}, {'taxon': 'c__Actinomycetia', 'taxonId': '1760'}, {'taxon': 'o__Streptomycetales', 'taxonId': '85011'}, {'taxon': 'f__Streptomycetaceae', 'taxonId': '2062'}, {'taxon': 'g__Streptomyces', 'taxonId': '1883'}, {'taxon': 's__Streptomyces bingchenggensis', 'taxonId': '379067'}, {'taxon': 'x__Streptomyces bingchenggensis BCW-1', 'taxonId': '749414'}]\"}, {\"genome_id\": \"GCF_000147815.2\", \"source\": \"ncbi\", \"organism\": null, \"genus\": null, \"species\": null, \"strain\": null, \"closest_placement_reference\": null, \"bgcs_count\": 48.0, \"bgcs_on_contig_edge\": 0.0, \"protoclusters_count\": 0.0, \"cand_clusters_count\": 0.0, \"terpene\": 6.0, \"lassopeptide\": 2.0, \"T1PKS\": 7.0, \"NRPS\": 3.0, \"NRPS.NRPS-like.PKS-like.T1PKS\": null, \"melanin\": null, \"siderophore\": 2.0, \"RiPP-like\": 1.0, \"PKS-like.T1PKS.butyrolactone.other\": null, \"PKS-like.T1PKS.T2PKS\": null, \"T1PKS.T2PKS\": null, \"NRPS.NRPS-like\": null, \"PKS-like.butyrolactone\": null, \"NRPS.arylpolyene.ladderane\": 1.0, \"ectoine\": 1.0, \"NAPAA\": null, \"T3PKS\": null, \"T1PKS.hglE-KS\": null, \"RiPP-like.lanthipeptide-class-iii\": null, \"lanthipeptide-class-iv\": null, \"NRPS.T1PKS\": 1.0, \"NRPS.T3PKS\": null, \"LAP.NRPS.NRPS-like.T1PKS.other\": null, \"linaridin\": null, \"lanthipeptide-class-iii\": null, \"NRPS-like.T1PKS\": 2.0, \"NRPS.NRPS-like.arylpolyene.ladderane\": null, \"betalactone\": 1.0, \"lanthipeptide-class-i\": 2.0, \"LAP.thiopeptide\": null, \"lanthipeptide-class-ii.lanthipeptide-class-iii\": null, \"PKS-like\": null, \"RRE-containing.amglyccycl\": null, \"T1PKS.terpene\": null, \"T1PKS.linaridin\": null, \"NRPS.NRPS-like.PKS-like.T1PKS.transAT-PKS\": null, \"butyrolactone\": 2.0, \"NRPS.lanthipeptide-class-i\": null, \"T2PKS\": 1.0, \"RiPP-like.bottromycin\": null, \"LAP.PKS-like.T1PKS.butyrolactone\": null, \"T1PKS.indole\": null, \"NRPS.melanin\": null, \"NRPS.NRPS-like.T1PKS\": 1.0, \"NRPS.PKS-like.hglE-KS.transAT-PKS\": null, \"RiPP-like.T1PKS\": null, \"NRPS.T1PKS.transAT-PKS\": null, \"NRPS.T1PKS.furan.hglE-KS\": null, \"NAPAA.NRPS-like\": null, \"PKS-like.T1PKS\": null, \"nucleoside\": null, \"NRPS-like\": 3.0, \"redox-cofactor\": 1.0, \"LAP.thioamitides.thiopeptide\": null, \"thioamitides\": null, \"NRPS.NRPS-like.siderophore\": null, \"arylpolyene.ladderane\": null, \"NRPS.PKS-like.RRE-containing.T2PKS.oligosaccharide\": null, \"lanthipeptide-class-ii\": 1.0, \"NRPS-like.ranthipeptide\": null, \"NRPS.PKS-like\": null, \"NRPS.terpene.transAT-PKS\": null, \"hserlactone\": 1.0, \"PKS-like.terpene\": 1.0, \"RiPP-like.T1PKS.hglE-KS\": 1.0, \"NRPS.T1PKS.lanthipeptide-class-i\": 1.0, \"NAPAA.T1PKS.hglE-KS\": 1.0, \"T1PKS.siderophore\": 1.0, \"RRE-containing\": 1.0, \"ladderane\": 1.0, \"indole\": 1.0, \"NRPS.betalactone\": 1.0, \"gtdb_release\": \"R207\", \"Domain\": \"d__Bacteria\", \"Phylum\": \"p__Actinobacteriota\", \"Class\": \"c__Actinomycetia\", \"Order\": \"o__Streptomycetales\", \"Family\": \"f__Streptomycetaceae\", \"Genus\": \"g__Streptomyces\", \"Species\": \"violaceusniger_A\", \"Organism\": \"s__Streptomyces violaceusniger_A\", \"accession\": \"GCA_000147815.3\", \"name\": \"GCF_000147815.2\", \"trna_aa_count\": 20.0, \"contig_count\": 3.0, \"n50_contigs\": 10657107.0, \"longest_contig\": 10657107.0, \"scaffold_count\": 3.0, \"n50_scaffolds\": 10657107.0, \"longest_scaffold\": 10657107.0, \"genome_size\": 11138313.0, \"gc_percentage\": 70.8763616177782, \"ambiguous_bases\": 0.0, \"checkm_completeness\": 100.0, \"checkm_contamination\": 1.05, \"checkm_strain_heterogeneity\": 0.0, \"lsu_5s_count\": 6, \"ssu_count\": 6, \"lsu_23s_count\": 6, \"protein_count\": 9451, \"coding_density\": 87.27394354962013, \"ncbi_genbank_assembly_accession\": \"GCA_000147815.3\", \"ncbi_strain_identifiers\": \"Tu 4113\", \"ncbi_assembly_level\": \"Complete Genome\", \"ncbi_assembly_name\": \"ASM14781v3\", \"ncbi_assembly_type\": \"na\", \"ncbi_bioproject\": \"PRJNA224116\", \"ncbi_biosample\": \"SAMN00016986\", \"ncbi_country\": null, \"ncbi_date\": \"2011-08-23\", \"ncbi_genome_category\": null, \"ncbi_genome_representation\": \"full\", \"ncbi_isolate\": null, \"ncbi_isolation_source\": null, \"ncbi_lat_lon\": null, \"ncbi_molecule_count\": 3, \"ncbi_cds_count\": 9434, \"ncbi_refseq_category\": \"na\", \"ncbi_seq_rel_date\": \"2011/08/23\", \"ncbi_spanned_gaps\": 0, \"ncbi_species_taxid\": 68280, \"ncbi_ssu_count\": 6, \"ncbi_submitter\": \"US DOE Joint Genome Institute (JGI-PGF)\", \"ncbi_taxid\": 653045, \"ncbi_total_gap_length\": 0, \"ncbi_translation_table\": 11, \"ncbi_trna_count\": 66, \"ncbi_unspanned_gaps\": 0, \"ncbi_version_status\": \"latest\", \"ncbi_wgs_master\": null, \"gtdbTypeDesignation\": \"not type material\", \"gtdbTypeDesignationSources\": null, \"lpsnTypeDesignation\": \"not type material\", \"dsmzTypeDesignation\": \"not type material\", \"lpsnPriorityYear\": null, \"gtdbTypeSpeciesOfGenus\": false, \"ncbi_taxonomy\": \"d__Bacteria;p__Actinobacteria;c__Actinomycetia;o__Streptomycetales;f__Streptomycetaceae;g__Streptomyces;s__Streptomyces violaceusniger\", \"ncbi_taxonomy_unfiltered\": \"d__Bacteria;x__Terrabacteria group;p__Actinobacteria;c__Actinomycetia;o__Streptomycetales;f__Streptomycetaceae;g__Streptomyces;x__Streptomyces violaceusniger group;s__Streptomyces violaceusniger;x__Streptomyces violaceusniger Tu 4113\", \"gtdb_representative\": true, \"gtdb_genome_representative\": \"RS_GCF_000147815.2\", \"ncbi_type_material_designation\": null, \"gtdbDomain\": \"d__Bacteria\", \"gtdbPhylum\": \"p__Actinobacteriota\", \"gtdbClass\": \"c__Actinomycetia\", \"gtdbOrder\": \"o__Streptomycetales\", \"gtdbFamily\": \"f__Streptomycetaceae\", \"gtdbGenus\": \"g__Streptomyces\", \"gtdbSpecies\": \"s__Streptomyces violaceusniger_A\", \"gtdbTypeDesignation.1\": \"not type material\", \"subunit_summary\": \"5S/16S/23S\", \"speciesRepName\": \"GCA_000147815.3\", \"speciesClusterCount\": 4, \"lpsnUrl\": null, \"link_ncbi_taxonomy\": \"<a target=\\\"_blank\\\" href=\\\"https://www.ncbi.nlm.nih.gov/Taxonomy/Browser/wwwtax.cgi?id=2\\\">d__Bacteria</a>; <a target=\\\"_blank\\\" href=\\\"https://www.ncbi.nlm.nih.gov/Taxonomy/Browser/wwwtax.cgi?id=201174\\\">p__Actinobacteria</a>; <a target=\\\"_blank\\\" href=\\\"https://www.ncbi.nlm.nih.gov/Taxonomy/Browser/wwwtax.cgi?id=1760\\\">c__Actinomycetia</a>; <a target=\\\"_blank\\\" href=\\\"https://www.ncbi.nlm.nih.gov/Taxonomy/Browser/wwwtax.cgi?id=85011\\\">o__Streptomycetales</a>; <a target=\\\"_blank\\\" href=\\\"https://www.ncbi.nlm.nih.gov/Taxonomy/Browser/wwwtax.cgi?id=2062\\\">f__Streptomycetaceae</a>; <a target=\\\"_blank\\\" href=\\\"https://www.ncbi.nlm.nih.gov/Taxonomy/Browser/wwwtax.cgi?id=1883\\\">g__Streptomyces</a>; <a target=\\\"_blank\\\" href=\\\"https://www.ncbi.nlm.nih.gov/Taxonomy/Browser/wwwtax.cgi?id=68280\\\">s__Streptomyces violaceusniger</a>\", \"link_ncbi_taxonomy_unfiltered\": \"<a target=\\\"_blank\\\" href=\\\"https://www.ncbi.nlm.nih.gov/Taxonomy/Browser/wwwtax.cgi?id=2\\\">d__Bacteria</a>; <a target=\\\"_blank\\\" href=\\\"https://www.ncbi.nlm.nih.gov/Taxonomy/Browser/wwwtax.cgi?id=1783272\\\">x__Terrabacteria group</a>; <a target=\\\"_blank\\\" href=\\\"https://www.ncbi.nlm.nih.gov/Taxonomy/Browser/wwwtax.cgi?id=201174\\\">p__Actinobacteria</a>; <a target=\\\"_blank\\\" href=\\\"https://www.ncbi.nlm.nih.gov/Taxonomy/Browser/wwwtax.cgi?id=1760\\\">c__Actinomycetia</a>; <a target=\\\"_blank\\\" href=\\\"https://www.ncbi.nlm.nih.gov/Taxonomy/Browser/wwwtax.cgi?id=85011\\\">o__Streptomycetales</a>; <a target=\\\"_blank\\\" href=\\\"https://www.ncbi.nlm.nih.gov/Taxonomy/Browser/wwwtax.cgi?id=2062\\\">f__Streptomycetaceae</a>; <a target=\\\"_blank\\\" href=\\\"https://www.ncbi.nlm.nih.gov/Taxonomy/Browser/wwwtax.cgi?id=1883\\\">g__Streptomyces</a>; <a target=\\\"_blank\\\" href=\\\"https://www.ncbi.nlm.nih.gov/Taxonomy/Browser/wwwtax.cgi?id=2839105\\\">x__Streptomyces violaceusniger group</a>; <a target=\\\"_blank\\\" href=\\\"https://www.ncbi.nlm.nih.gov/Taxonomy/Browser/wwwtax.cgi?id=68280\\\">s__Streptomyces violaceusniger</a>; <a target=\\\"_blank\\\" href=\\\"https://www.ncbi.nlm.nih.gov/Taxonomy/Browser/wwwtax.cgi?id=653045\\\">x__Streptomyces violaceusniger Tu 4113</a>\", \"0\": \"{'taxon': 'd__Bacteria', 'taxonId': '2'}\", \"1\": \"{'taxon': 'p__Actinobacteria', 'taxonId': '201174'}\", \"2\": \"{'taxon': 'c__Actinomycetia', 'taxonId': '1760'}\", \"3\": \"{'taxon': 'o__Streptomycetales', 'taxonId': '85011'}\", \"4\": \"{'taxon': 'f__Streptomycetaceae', 'taxonId': '2062'}\", \"5\": \"{'taxon': 'g__Streptomyces', 'taxonId': '1883'}\", \"6\": \"{'taxon': 's__Streptomyces violaceusniger', 'taxonId': '68280'}\", \"ncbiTaxonomyUnfiltered\": \"[{'taxon': 'd__Bacteria', 'taxonId': '2'}, {'taxon': 'x__Terrabacteria group', 'taxonId': '1783272'}, {'taxon': 'p__Actinobacteria', 'taxonId': '201174'}, {'taxon': 'c__Actinomycetia', 'taxonId': '1760'}, {'taxon': 'o__Streptomycetales', 'taxonId': '85011'}, {'taxon': 'f__Streptomycetaceae', 'taxonId': '2062'}, {'taxon': 'g__Streptomyces', 'taxonId': '1883'}, {'taxon': 'x__Streptomyces violaceusniger group', 'taxonId': '2839105'}, {'taxon': 's__Streptomyces violaceusniger', 'taxonId': '68280'}, {'taxon': 'x__Streptomyces violaceusniger Tu 4113', 'taxonId': '653045'}]\"}]}}, {\"mode\": \"vega-lite\"});\n",
       "</script>"
      ],
      "text/plain": [
       "alt.Chart(...)"
      ]
     },
     "execution_count": 4,
     "metadata": {},
     "output_type": "execute_result"
    }
   ],
   "source": [
    "source = df_raw\n",
    "\n",
    "chart = alt.Chart(source).mark_circle().encode(\n",
    "    x = 'bgcs_count',\n",
    "    y = 'bgcs_on_contig_edge',\n",
    "    color='Genus',\n",
    "    tooltip=['genome_id', 'bgcs_count', 'bgcs_on_contig_edge', 'protoclusters_count', 'cand_clusters_count']\n",
    ").properties(\n",
    "    width=400,\n",
    "    height=400,\n",
    "    title = \"BGC distribution overview\",\n",
    ").interactive()\n",
    "\n",
    "chart = chart.configure_title(fontSize=20, offset=10, orient='top', anchor='middle')\n",
    "\n",
    "chart"
   ]
  },
  {
   "cell_type": "markdown",
   "id": "27fe87a5-a05f-4dd2-a6ba-7c9c8c33c20d",
   "metadata": {},
   "source": [
    "## Summary Table\n",
    "Click on the genome ids to get the antiSMASH result.\n",
    "\n",
    "[Download Table]({{ project().file_server() }}/tables/df_antismash_6.1.1_summary.csv){:target=\"_blank\" .md-button}"
   ]
  },
  {
   "cell_type": "code",
   "execution_count": 5,
   "id": "65acb557-bc21-4db9-8130-3100134e0620",
   "metadata": {
    "execution": {
     "iopub.execute_input": "2022-10-09T20:47:48.550434Z",
     "iopub.status.busy": "2022-10-09T20:47:48.550039Z",
     "iopub.status.idle": "2022-10-09T20:47:48.561621Z",
     "shell.execute_reply": "2022-10-09T20:47:48.561065Z"
    }
   },
   "outputs": [
    {
     "data": {
      "text/html": [
       "<table id=\"508a2d56-586b-4537-a1de-a3dbb993338f\" class=\"display compact\"style=\"max-width:100%\"><thead>\n",
       "    <tr style=\"text-align: right;\">\n",
       "      \n",
       "      <th>genome_id</th>\n",
       "      <th>source</th>\n",
       "      <th>Organism</th>\n",
       "      <th>strain</th>\n",
       "      <th>bgcs_count</th>\n",
       "      <th>bgcs_on_contig_edge</th>\n",
       "    </tr>\n",
       "  </thead><tbody><tr><td>Loading... (need <a href=https://mwouts.github.io/itables/troubleshooting.html>help</a>?)</td></tr></tbody></table>\n",
       "<style>\n",
       "table td {\n",
       "    text-overflow: ellipsis;\n",
       "    overflow: hidden;\n",
       "}\n",
       "\n",
       "table th {\n",
       "    text-overflow: ellipsis;\n",
       "    overflow: hidden;\n",
       "}\n",
       "\n",
       "thead input {\n",
       "    width: 100%;\n",
       "    padding: 3px;\n",
       "    box-sizing: border-box;\n",
       "}\n",
       "\n",
       "tfoot input {\n",
       "    width: 100%;\n",
       "    padding: 3px;\n",
       "    box-sizing: border-box;\n",
       "}\n",
       "\n",
       "</style>\n",
       "<link rel=\"stylesheet\" type=\"text/css\" href=\"https://cdn.datatables.net/1.12.1/css/jquery.dataTables.min.css\">\n",
       "<script type=\"module\">\n",
       "    // Import jquery and DataTable\n",
       "    import 'https://code.jquery.com/jquery-3.6.0.min.js';\n",
       "    import dt from 'https://cdn.datatables.net/1.12.1/js/jquery.dataTables.mjs';\n",
       "    dt($);\n",
       "\n",
       "    // Define the table data\n",
       "    const data = [[\"<a href='{{ project().file_server() }}/antismash/6.1.1/GCF_000009765.2/index.html?view' target='_blank''>GCF_000009765.2</a>\", \"ncbi\", \"s__Streptomyces avermitilis\", NaN, 35.0, 0.0], [\"<a href='{{ project().file_server() }}/antismash/6.1.1/GCF_000010605.1/index.html?view' target='_blank''>GCF_000010605.1</a>\", \"ncbi\", \"s__Streptomyces griseus\", NaN, 38.0, 0.0], [\"<a href='{{ project().file_server() }}/antismash/6.1.1/GCF_000091305.1/index.html?view' target='_blank''>GCF_000091305.1</a>\", \"ncbi\", \"s__Streptomyces scabiei\", NaN, 34.0, 0.0], [\"<a href='{{ project().file_server() }}/antismash/6.1.1/GCF_000092385.1/index.html?view' target='_blank''>GCF_000092385.1</a>\", \"ncbi\", \"s__Streptomyces milbemycinicus\", NaN, 51.0, 1.0], [\"<a href='{{ project().file_server() }}/antismash/6.1.1/GCF_000147815.2/index.html?view' target='_blank''>GCF_000147815.2</a>\", \"ncbi\", \"s__Streptomyces violaceusniger_A\", NaN, 48.0, 0.0]];\n",
       "\n",
       "    // Define the dt_args\n",
       "    let dt_args = {\"columnDefs\": [{\"className\": \"dt-center\", \"targets\": \"_all\"}], \"lengthMenu\": [5, 10, 20, 50, 100, 200, 500], \"paging\": false, \"order\": []};\n",
       "    dt_args[\"data\"] = data;\n",
       "\n",
       "    $(document).ready(function () {\n",
       "        \n",
       "        $('#508a2d56-586b-4537-a1de-a3dbb993338f').DataTable(dt_args);\n",
       "    });\n",
       "</script>\n"
      ],
      "text/plain": [
       "<IPython.core.display.HTML object>"
      ]
     },
     "metadata": {},
     "output_type": "display_data"
    }
   ],
   "source": [
    "display(HTML(DT(df, columnDefs=[{\"className\": \"dt-center\", \"targets\": \"_all\"}],)))"
   ]
  },
  {
   "cell_type": "markdown",
   "id": "a9111659-b673-4842-8ef3-d0fa9b52aa8c",
   "metadata": {},
   "source": [
    "## References\n",
    "<font size=\"2\">\n",
    "{% for i in project().rule_used['antismash']['references'] %}\n",
    "- {{ i }} \n",
    "{% endfor %}\n",
    "</font>"
   ]
  }
 ],
 "metadata": {
  "kernelspec": {
   "display_name": "Python 3 (ipykernel)",
   "language": "python",
   "name": "python3"
  },
  "language_info": {
   "codemirror_mode": {
    "name": "ipython",
    "version": 3
   },
   "file_extension": ".py",
   "mimetype": "text/x-python",
   "name": "python",
   "nbconvert_exporter": "python",
   "pygments_lexer": "ipython3",
   "version": "3.10.6"
  }
 },
 "nbformat": 4,
 "nbformat_minor": 5
}
